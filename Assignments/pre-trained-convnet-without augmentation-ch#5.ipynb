{
 "cells": [
  {
   "cell_type": "code",
   "execution_count": 1,
   "id": "05585979",
   "metadata": {},
   "outputs": [],
   "source": [
    "# import os"
   ]
  },
  {
   "cell_type": "code",
   "execution_count": 2,
   "id": "4e7a63ae",
   "metadata": {},
   "outputs": [],
   "source": [
    "# train_dir = r'C:\\Users\\Student\\Desktop\\CV\\kaggle_original_data'"
   ]
  },
  {
   "cell_type": "code",
   "execution_count": 4,
   "id": "47a28e68",
   "metadata": {},
   "outputs": [
    {
     "name": "stdout",
     "output_type": "stream",
     "text": [
      "Downloading data from https://storage.googleapis.com/tensorflow/keras-applications/vgg16/vgg16_weights_tf_dim_ordering_tf_kernels_notop.h5\n",
      "58892288/58889256 [==============================] - 6s 0us/step\n"
     ]
    }
   ],
   "source": [
    "from tensorflow.keras.applications import VGG16\n",
    "\n",
    "conv_base = VGG16(weights='imagenet',\n",
    "                include_top=False,\n",
    "                input_shape=(150, 150, 3))\n"
   ]
  },
  {
   "cell_type": "code",
   "execution_count": 5,
   "id": "ca0172de",
   "metadata": {},
   "outputs": [
    {
     "name": "stdout",
     "output_type": "stream",
     "text": [
      "Model: \"vgg16\"\n",
      "_________________________________________________________________\n",
      "Layer (type)                 Output Shape              Param #   \n",
      "=================================================================\n",
      "input_1 (InputLayer)         [(None, 150, 150, 3)]     0         \n",
      "_________________________________________________________________\n",
      "block1_conv1 (Conv2D)        (None, 150, 150, 64)      1792      \n",
      "_________________________________________________________________\n",
      "block1_conv2 (Conv2D)        (None, 150, 150, 64)      36928     \n",
      "_________________________________________________________________\n",
      "block1_pool (MaxPooling2D)   (None, 75, 75, 64)        0         \n",
      "_________________________________________________________________\n",
      "block2_conv1 (Conv2D)        (None, 75, 75, 128)       73856     \n",
      "_________________________________________________________________\n",
      "block2_conv2 (Conv2D)        (None, 75, 75, 128)       147584    \n",
      "_________________________________________________________________\n",
      "block2_pool (MaxPooling2D)   (None, 37, 37, 128)       0         \n",
      "_________________________________________________________________\n",
      "block3_conv1 (Conv2D)        (None, 37, 37, 256)       295168    \n",
      "_________________________________________________________________\n",
      "block3_conv2 (Conv2D)        (None, 37, 37, 256)       590080    \n",
      "_________________________________________________________________\n",
      "block3_conv3 (Conv2D)        (None, 37, 37, 256)       590080    \n",
      "_________________________________________________________________\n",
      "block3_pool (MaxPooling2D)   (None, 18, 18, 256)       0         \n",
      "_________________________________________________________________\n",
      "block4_conv1 (Conv2D)        (None, 18, 18, 512)       1180160   \n",
      "_________________________________________________________________\n",
      "block4_conv2 (Conv2D)        (None, 18, 18, 512)       2359808   \n",
      "_________________________________________________________________\n",
      "block4_conv3 (Conv2D)        (None, 18, 18, 512)       2359808   \n",
      "_________________________________________________________________\n",
      "block4_pool (MaxPooling2D)   (None, 9, 9, 512)         0         \n",
      "_________________________________________________________________\n",
      "block5_conv1 (Conv2D)        (None, 9, 9, 512)         2359808   \n",
      "_________________________________________________________________\n",
      "block5_conv2 (Conv2D)        (None, 9, 9, 512)         2359808   \n",
      "_________________________________________________________________\n",
      "block5_conv3 (Conv2D)        (None, 9, 9, 512)         2359808   \n",
      "_________________________________________________________________\n",
      "block5_pool (MaxPooling2D)   (None, 4, 4, 512)         0         \n",
      "=================================================================\n",
      "Total params: 14,714,688\n",
      "Trainable params: 14,714,688\n",
      "Non-trainable params: 0\n",
      "_________________________________________________________________\n"
     ]
    }
   ],
   "source": [
    "conv_base.summary()"
   ]
  },
  {
   "cell_type": "markdown",
   "id": "121c6590",
   "metadata": {},
   "source": [
    "# Extracting features using the pretrained convolutional base"
   ]
  },
  {
   "cell_type": "code",
   "execution_count": 6,
   "id": "8947152e",
   "metadata": {},
   "outputs": [],
   "source": [
    "import os\n",
    "import numpy as np\n",
    "from keras.preprocessing.image import ImageDataGenerator"
   ]
  },
  {
   "cell_type": "code",
   "execution_count": 7,
   "id": "9e867a2f",
   "metadata": {},
   "outputs": [],
   "source": [
    "base_dir = r'C:\\Users\\Student\\Desktop\\CV\\cats_and_dogs_small'\n",
    "train_dir = os.path.join(base_dir, 'train')\n",
    "validation_dir = os.path.join(base_dir, 'validation')\n",
    "test_dir = os.path.join(base_dir, 'test')"
   ]
  },
  {
   "cell_type": "code",
   "execution_count": 8,
   "id": "fef7af6d",
   "metadata": {},
   "outputs": [],
   "source": [
    "datagen = ImageDataGenerator(rescale=1./255)\n",
    "batch_size = 20"
   ]
  },
  {
   "cell_type": "code",
   "execution_count": 9,
   "id": "c1b6f586",
   "metadata": {},
   "outputs": [],
   "source": [
    "def extract_features(directory, sample_count):\n",
    "    features = np.zeros(shape=(sample_count, 4, 4, 512))\n",
    "    labels = np.zeros(shape=(sample_count))\n",
    "    generator = datagen.flow_from_directory(\n",
    "        directory,\n",
    "        target_size=(150, 150),\n",
    "        batch_size=batch_size,\n",
    "        class_mode='binary')\n",
    "    i=0\n",
    "    for inputs_batch, labels_batch in generator:\n",
    "        features_batch = conv_base.predict(inputs_batch)\n",
    "        features[i * batch_size : (i + 1) * batch_size] = features_batch\n",
    "        labels[i * batch_size : (i + 1) * batch_size] = labels_batch\n",
    "        i += 1\n",
    "        if i * batch_size >= sample_count:\n",
    "            break\n",
    "    return features, labels"
   ]
  },
  {
   "cell_type": "code",
   "execution_count": 10,
   "id": "76a218f5",
   "metadata": {},
   "outputs": [
    {
     "name": "stdout",
     "output_type": "stream",
     "text": [
      "Found 2000 images belonging to 2 classes.\n",
      "Found 1000 images belonging to 2 classes.\n",
      "Found 1000 images belonging to 2 classes.\n"
     ]
    }
   ],
   "source": [
    "train_features, train_labels = extract_features(train_dir, 2000)\n",
    "validation_features, validation_labels = extract_features(validation_dir, 1000)\n",
    "test_features, test_labels = extract_features(test_dir, 1000)"
   ]
  },
  {
   "cell_type": "code",
   "execution_count": 11,
   "id": "e4cfb46b",
   "metadata": {},
   "outputs": [],
   "source": [
    "train_features = np.reshape(train_features, (2000, 4*4* 512))\n",
    "validation_features = np.reshape(validation_features, (1000, 4*4* 512))\n",
    "test_features = np.reshape(test_features, (1000, 4*4* 512))"
   ]
  },
  {
   "cell_type": "markdown",
   "id": "6b007844",
   "metadata": {},
   "source": [
    "# Defining and training the densely connected classifier"
   ]
  },
  {
   "cell_type": "code",
   "execution_count": 12,
   "id": "62a734c8",
   "metadata": {},
   "outputs": [
    {
     "name": "stderr",
     "output_type": "stream",
     "text": [
      "C:\\Users\\Student\\anaconda3\\lib\\site-packages\\tensorflow\\python\\keras\\optimizer_v2\\optimizer_v2.py:374: UserWarning: The `lr` argument is deprecated, use `learning_rate` instead.\n",
      "  warnings.warn(\n"
     ]
    },
    {
     "name": "stdout",
     "output_type": "stream",
     "text": [
      "Epoch 1/30\n",
      "100/100 [==============================] - 13s 22ms/step - loss: 0.6988 - acc: 0.6165 - val_loss: 0.4189 - val_acc: 0.8450\n",
      "Epoch 2/30\n",
      "100/100 [==============================] - 2s 19ms/step - loss: 0.4351 - acc: 0.8053 - val_loss: 0.3454 - val_acc: 0.8700\n",
      "Epoch 3/30\n",
      "100/100 [==============================] - 2s 19ms/step - loss: 0.3571 - acc: 0.8403 - val_loss: 0.3094 - val_acc: 0.8870\n",
      "Epoch 4/30\n",
      "100/100 [==============================] - 2s 19ms/step - loss: 0.3177 - acc: 0.8662 - val_loss: 0.2936 - val_acc: 0.8890\n",
      "Epoch 5/30\n",
      "100/100 [==============================] - 2s 20ms/step - loss: 0.2994 - acc: 0.8824 - val_loss: 0.2881 - val_acc: 0.8830\n",
      "Epoch 6/30\n",
      "100/100 [==============================] - 2s 19ms/step - loss: 0.2758 - acc: 0.8880 - val_loss: 0.2716 - val_acc: 0.8920\n",
      "Epoch 7/30\n",
      "100/100 [==============================] - 2s 18ms/step - loss: 0.2289 - acc: 0.9075 - val_loss: 0.2587 - val_acc: 0.9000\n",
      "Epoch 8/30\n",
      "100/100 [==============================] - 2s 18ms/step - loss: 0.2335 - acc: 0.9123 - val_loss: 0.2606 - val_acc: 0.8970\n",
      "Epoch 9/30\n",
      "100/100 [==============================] - 2s 20ms/step - loss: 0.2082 - acc: 0.9182 - val_loss: 0.2498 - val_acc: 0.8980\n",
      "Epoch 10/30\n",
      "100/100 [==============================] - 2s 19ms/step - loss: 0.1962 - acc: 0.9258 - val_loss: 0.2439 - val_acc: 0.9020\n",
      "Epoch 11/30\n",
      "100/100 [==============================] - 2s 19ms/step - loss: 0.1823 - acc: 0.9379 - val_loss: 0.2498 - val_acc: 0.8910\n",
      "Epoch 12/30\n",
      "100/100 [==============================] - 2s 18ms/step - loss: 0.1844 - acc: 0.9308 - val_loss: 0.2383 - val_acc: 0.9040\n",
      "Epoch 13/30\n",
      "100/100 [==============================] - 2s 18ms/step - loss: 0.1759 - acc: 0.9427 - val_loss: 0.2465 - val_acc: 0.8970\n",
      "Epoch 14/30\n",
      "100/100 [==============================] - 2s 18ms/step - loss: 0.1665 - acc: 0.9440 - val_loss: 0.2340 - val_acc: 0.9030\n",
      "Epoch 15/30\n",
      "100/100 [==============================] - 2s 18ms/step - loss: 0.1547 - acc: 0.9492 - val_loss: 0.2338 - val_acc: 0.9040\n",
      "Epoch 16/30\n",
      "100/100 [==============================] - 2s 18ms/step - loss: 0.1546 - acc: 0.9512 - val_loss: 0.2372 - val_acc: 0.9030\n",
      "Epoch 17/30\n",
      "100/100 [==============================] - 2s 18ms/step - loss: 0.1377 - acc: 0.9535 - val_loss: 0.2387 - val_acc: 0.9080\n",
      "Epoch 18/30\n",
      "100/100 [==============================] - 2s 18ms/step - loss: 0.1439 - acc: 0.9505 - val_loss: 0.2359 - val_acc: 0.9080\n",
      "Epoch 19/30\n",
      "100/100 [==============================] - 2s 19ms/step - loss: 0.1197 - acc: 0.9613 - val_loss: 0.2308 - val_acc: 0.9050\n",
      "Epoch 20/30\n",
      "100/100 [==============================] - 2s 18ms/step - loss: 0.1309 - acc: 0.9517 - val_loss: 0.2315 - val_acc: 0.9020\n",
      "Epoch 21/30\n",
      "100/100 [==============================] - 2s 18ms/step - loss: 0.1240 - acc: 0.9577 - val_loss: 0.2320 - val_acc: 0.9030\n",
      "Epoch 22/30\n",
      "100/100 [==============================] - 2s 19ms/step - loss: 0.1089 - acc: 0.9696 - val_loss: 0.2306 - val_acc: 0.9050\n",
      "Epoch 23/30\n",
      "100/100 [==============================] - 2s 19ms/step - loss: 0.1130 - acc: 0.9626 - val_loss: 0.2451 - val_acc: 0.9030\n",
      "Epoch 24/30\n",
      "100/100 [==============================] - 2s 19ms/step - loss: 0.1058 - acc: 0.9625 - val_loss: 0.2332 - val_acc: 0.9040\n",
      "Epoch 25/30\n",
      "100/100 [==============================] - 2s 19ms/step - loss: 0.1028 - acc: 0.9690 - val_loss: 0.2333 - val_acc: 0.9050\n",
      "Epoch 26/30\n",
      "100/100 [==============================] - 2s 19ms/step - loss: 0.0893 - acc: 0.9725 - val_loss: 0.2334 - val_acc: 0.9070\n",
      "Epoch 27/30\n",
      "100/100 [==============================] - 2s 19ms/step - loss: 0.1052 - acc: 0.9655 - val_loss: 0.2445 - val_acc: 0.9060\n",
      "Epoch 28/30\n",
      "100/100 [==============================] - 2s 18ms/step - loss: 0.0824 - acc: 0.9734 - val_loss: 0.2354 - val_acc: 0.9080\n",
      "Epoch 29/30\n",
      "100/100 [==============================] - 2s 19ms/step - loss: 0.0918 - acc: 0.9711 - val_loss: 0.2409 - val_acc: 0.9040\n",
      "Epoch 30/30\n",
      "100/100 [==============================] - 2s 19ms/step - loss: 0.0867 - acc: 0.9672 - val_loss: 0.2368 - val_acc: 0.9070\n"
     ]
    }
   ],
   "source": [
    "from keras import models\n",
    "from keras import layers\n",
    "from keras import optimizers\n",
    "\n",
    "model = models.Sequential()\n",
    "model.add(layers.Dense(256, activation='relu', input_dim=4 * 4 * 512))\n",
    "model.add(layers.Dropout(0.5))\n",
    "model.add(layers.Dense(1, activation='sigmoid'))\n",
    "\n",
    "model.compile(optimizer=optimizers.RMSprop(lr=2e-5),\n",
    "            loss='binary_crossentropy',\n",
    "            metrics=['acc'])\n",
    "\n",
    "history = model.fit(train_features, train_labels,\n",
    "                    epochs=30,\n",
    "                    batch_size=20,\n",
    "                    validation_data=(validation_features, validation_labels))"
   ]
  },
  {
   "cell_type": "markdown",
   "id": "55a1677f",
   "metadata": {},
   "source": [
    "# Plotting the results"
   ]
  },
  {
   "cell_type": "code",
   "execution_count": 13,
   "id": "f963d168",
   "metadata": {},
   "outputs": [
    {
     "data": {
      "image/png": "[encoded data removed]",
      "text/plain": [
       "<Figure size 432x288 with 1 Axes>"
      ]
     },
     "metadata": {
      "needs_background": "light"
     },
     "output_type": "display_data"
    },
    {
     "data": {
      "image/png": "[encoded data removed]",
      "text/plain": [
       "<Figure size 432x288 with 1 Axes>"
      ]
     },
     "metadata": {
      "needs_background": "light"
     },
     "output_type": "display_data"
    }
   ],
   "source": [
    "import matplotlib.pyplot as plt\n",
    "\n",
    "acc = history.history['acc']\n",
    "val_acc = history.history['val_acc']\n",
    "loss = history.history['loss']\n",
    "val_loss = history.history['val_loss']\n",
    "\n",
    "epochs = range(1, len(acc) + 1)\n",
    "\n",
    "plt.plot(epochs, acc, 'bo', label='Training acc')\n",
    "plt.plot(epochs, val_acc, 'b', label='Validation acc')\n",
    "plt.title('Training and validation accuracy')\n",
    "plt.legend()\n",
    "\n",
    "plt.figure()\n",
    "\n",
    "plt.plot(epochs, loss, 'bo', label='Training loss')\n",
    "plt.plot(epochs, val_loss, 'b', label='Validation loss')\n",
    "plt.title('Training and validation loss')\n",
    "plt.legend()\n",
    "\n",
    "plt.show()"
   ]
  },
  {
   "cell_type": "code",
   "execution_count": null,
   "id": "bcb72675",
   "metadata": {},
   "outputs": [],
   "source": []
  }
 ],
 "metadata": {
  "kernelspec": {
   "display_name": "Python 3",
   "language": "python",
   "name": "python3"
  },
  "language_info": {
   "codemirror_mode": {
    "name": "ipython",
    "version": 3
   },
   "file_extension": ".py",
   "mimetype": "text/x-python",
   "name": "python",
   "nbconvert_exporter": "python",
   "pygments_lexer": "ipython3",
   "version": "3.8.8"
  }
 },
 "nbformat": 4,
 "nbformat_minor": 5
}
