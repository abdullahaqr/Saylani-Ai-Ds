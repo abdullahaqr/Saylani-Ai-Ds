{
 "cells": [
  {
   "cell_type": "markdown",
   "metadata": {},
   "source": [
    "# Return:"
   ]
  },
  {
   "cell_type": "code",
   "execution_count": 16,
   "metadata": {},
   "outputs": [],
   "source": [
    "def fullName():\n",
    "    fname = input(\"Your first name : \")\n",
    "    lname = input(\"Your last name : \")\n",
    "    \n",
    "    #concept of local and global variable\n",
    "    \n",
    "    ##### to make local to global (important==> can not assign value on blow line but next line on the blow line)\n",
    "    #method 1 to convert varible as global\n",
    "    #global fullname\n",
    "    \n",
    "    ###########local############\n",
    "    fullname = f\"{fname} {lname}\"\n",
    "    ###########local############\n",
    "    \n",
    "    \n",
    "    \n",
    "    #print(fullname)\n",
    "    \n",
    "    #it returns varible as global\n",
    "    #method 2 to convert varible as global\n",
    "    return fullname\n",
    "    \n",
    "#\"return\" returns multiple values as tuple\n",
    "#return fullname , 100 , 4400 , [3, 4, 5]"
   ]
  },
  {
   "cell_type": "code",
   "execution_count": 11,
   "metadata": {},
   "outputs": [
    {
     "name": "stdout",
     "output_type": "stream",
     "text": [
      "Your first name : Abdullah\n",
      "Your last name : Bin\n",
      "Abdullah Bin\n"
     ]
    }
   ],
   "source": [
    "myfullname = fullName()"
   ]
  },
  {
   "cell_type": "code",
   "execution_count": 12,
   "metadata": {},
   "outputs": [
    {
     "ename": "TypeError",
     "evalue": "unsupported operand type(s) for +: 'NoneType' and 'str'",
     "output_type": "error",
     "traceback": [
      "\u001b[1;31m---------------------------------------------------------------------------\u001b[0m",
      "\u001b[1;31mTypeError\u001b[0m                                 Traceback (most recent call last)",
      "\u001b[1;32m<ipython-input-12-dcf0cf6decf8>\u001b[0m in \u001b[0;36m<module>\u001b[1;34m\u001b[0m\n\u001b[1;32m----> 1\u001b[1;33m \u001b[0mmyfullname\u001b[0m \u001b[1;33m+\u001b[0m \u001b[1;34m\" Qadeer\"\u001b[0m\u001b[1;33m\u001b[0m\u001b[1;33m\u001b[0m\u001b[0m\n\u001b[0m",
      "\u001b[1;31mTypeError\u001b[0m: unsupported operand type(s) for +: 'NoneType' and 'str'"
     ]
    }
   ],
   "source": [
    "myfullname + \" Qadeer\""
   ]
  },
  {
   "cell_type": "code",
   "execution_count": 17,
   "metadata": {},
   "outputs": [
    {
     "data": {
      "text/plain": [
       "'Abdullah Bin'"
      ]
     },
     "execution_count": 17,
     "metadata": {},
     "output_type": "execute_result"
    }
   ],
   "source": [
    "fullname"
   ]
  },
  {
   "cell_type": "markdown",
   "metadata": {},
   "source": [
    "# Arguments of function"
   ]
  },
  {
   "cell_type": "code",
   "execution_count": 21,
   "metadata": {},
   "outputs": [],
   "source": [
    "def add(): #parameter less\n",
    "    n1 = int(input())\n",
    "    n2 = int(input())\n",
    "    sum1 = n1 + n2\n",
    "    return sum1"
   ]
  },
  {
   "cell_type": "code",
   "execution_count": 22,
   "metadata": {},
   "outputs": [
    {
     "name": "stdout",
     "output_type": "stream",
     "text": [
      "3\n",
      "4\n"
     ]
    },
    {
     "data": {
      "text/plain": [
       "7"
      ]
     },
     "execution_count": 22,
     "metadata": {},
     "output_type": "execute_result"
    }
   ],
   "source": [
    "add() #argument less"
   ]
  },
  {
   "cell_type": "code",
   "execution_count": null,
   "metadata": {},
   "outputs": [],
   "source": [
    "print(\"asad\") #argument"
   ]
  },
  {
   "cell_type": "code",
   "execution_count": 25,
   "metadata": {},
   "outputs": [],
   "source": [
    "def add(n1, n2): #parameterized (parameter n1 and n2)\n",
    "    \"\"\"This Function takes two integer parameters\n",
    "    this function is in saylani class on wed 20 jan\"\"\" #DocString (get ==> shift + tab) imp => it must be on first line of func\n",
    "    sum1 = n1 + n2\n",
    "    return sum1"
   ]
  },
  {
   "cell_type": "code",
   "execution_count": 24,
   "metadata": {},
   "outputs": [
    {
     "data": {
      "text/plain": [
       "68"
      ]
     },
     "execution_count": 24,
     "metadata": {},
     "output_type": "execute_result"
    }
   ],
   "source": [
    "add(23, 45) #argument (positional argument)"
   ]
  },
  {
   "cell_type": "code",
   "execution_count": 26,
   "metadata": {},
   "outputs": [
    {
     "data": {
      "text/plain": [
       "68"
      ]
     },
     "execution_count": 26,
     "metadata": {},
     "output_type": "execute_result"
    }
   ],
   "source": [
    "add(n2=45, n1=23) #argument (Keyword argument)"
   ]
  },
  {
   "cell_type": "code",
   "execution_count": 30,
   "metadata": {},
   "outputs": [],
   "source": [
    "def add2(n1, n2, n3, n4): #parameterized (parameter n1, n2, n3, n4)\n",
    "    \"\"\"This Function takes four integer parameters\n",
    "    this function is in saylani class on wed 20 jan\"\"\" #DocString (get ==> shift + tab) imp => it must be on first line of func\n",
    "    sum1 = n1 + n2 + n3 + n4\n",
    "    return sum1"
   ]
  },
  {
   "cell_type": "code",
   "execution_count": 31,
   "metadata": {},
   "outputs": [
    {
     "data": {
      "text/plain": [
       "20"
      ]
     },
     "execution_count": 31,
     "metadata": {},
     "output_type": "execute_result"
    }
   ],
   "source": [
    "add2(2, 3, n3=5, n4=10) #argument (positional argument must come first than keyword argument)"
   ]
  },
  {
   "cell_type": "code",
   "execution_count": 33,
   "metadata": {},
   "outputs": [],
   "source": [
    "def add3(n1=0, n2=0, n3=0, n4=0): #parameterized default parameters\n",
    "    \"\"\"This Function takes four integer parameters\n",
    "    this function is in saylani class on wed 20 jan\"\"\" #DocString (get ==> shift + tab) imp => it must be on first line of func\n",
    "    sum1 = n1 + n2 + n3 + n4\n",
    "    return sum1"
   ]
  },
  {
   "cell_type": "code",
   "execution_count": 34,
   "metadata": {},
   "outputs": [
    {
     "data": {
      "text/plain": [
       "20"
      ]
     },
     "execution_count": 34,
     "metadata": {},
     "output_type": "execute_result"
    }
   ],
   "source": [
    "add3(2, 3, n3=5, n4=10) #argument "
   ]
  },
  {
   "cell_type": "code",
   "execution_count": 38,
   "metadata": {},
   "outputs": [],
   "source": [
    "def add4(n1, n2, n3=0, n4=0): #non-default parametrs must comes before than default parameters\n",
    "    \"\"\"This Function takes four integer parameters\n",
    "    this function is in saylani class on wed 20 jan\"\"\" #DocString (get ==> shift + tab) imp => it must be on first line of func\n",
    "    sum1 = n1 + n2 + n3 + n4\n",
    "    return sum1"
   ]
  },
  {
   "cell_type": "code",
   "execution_count": 39,
   "metadata": {},
   "outputs": [
    {
     "data": {
      "text/plain": [
       "5"
      ]
     },
     "execution_count": 39,
     "metadata": {},
     "output_type": "execute_result"
    }
   ],
   "source": [
    "add4(2,3)"
   ]
  },
  {
   "cell_type": "code",
   "execution_count": 49,
   "metadata": {},
   "outputs": [],
   "source": [
    "def tax_calc(basic_salary):\n",
    "    tax = 0\n",
    "    \n",
    "    if basic_salary < 30000:\n",
    "        tax = 0\n",
    "    elif (basic_salary > 30000) and (basic_salary <= 50000):\n",
    "        tax = 5\n",
    "    elif (basic_salary > 50000) and (basic_salary <= 100000):\n",
    "        tax = 10\n",
    "    else:\n",
    "        tax = 20\n",
    "    return tax"
   ]
  },
  {
   "cell_type": "code",
   "execution_count": 50,
   "metadata": {},
   "outputs": [],
   "source": [
    "def salary_calc(basic_salary):\n",
    "    deductions = basic_salary * tax_calc(basic_salary)/100\n",
    "    salary = basic_salary - deductions\n",
    "    return salary"
   ]
  },
  {
   "cell_type": "code",
   "execution_count": 55,
   "metadata": {},
   "outputs": [
    {
     "name": "stdout",
     "output_type": "stream",
     "text": [
      "Enter your basic salary : 80000\n",
      " Your total salary after deduction 72000.0\n"
     ]
    }
   ],
   "source": [
    "basic_salary = int(input(\"Enter your basic salary : \"))\n",
    "print(f\"Your total salary after deduction {salary_calc(basic_salary)}\")"
   ]
  },
  {
   "cell_type": "code",
   "execution_count": null,
   "metadata": {},
   "outputs": [],
   "source": [
    "# add commision by geting from user that how many addons"
   ]
  },
  {
   "cell_type": "code",
   "execution_count": null,
   "metadata": {},
   "outputs": [],
   "source": []
  },
  {
   "cell_type": "code",
   "execution_count": 56,
   "metadata": {},
   "outputs": [
    {
     "name": "stdout",
     "output_type": "stream",
     "text": [
      "{'first': 'jimi', 'last': 'hendrix', 'age': 27}\n"
     ]
    }
   ],
   "source": [
    "#pg # 144\n",
    "def build_person(first_name, last_name, age=''):\n",
    "    \"\"\"Return a dictionary of information about a person.\"\"\"\n",
    "    person = {'first': first_name, 'last': last_name}\n",
    "    if age:\n",
    "        person['age'] = age\n",
    "    return person\n",
    "musician = build_person('jimi', 'hendrix', age=27)\n",
    "print(musician)"
   ]
  },
  {
   "cell_type": "code",
   "execution_count": 57,
   "metadata": {},
   "outputs": [
    {
     "data": {
      "text/plain": [
       "1"
      ]
     },
     "execution_count": 57,
     "metadata": {},
     "output_type": "execute_result"
    }
   ],
   "source": [
    "# 0 (false) or 1 (true)\n",
    "0 or 1"
   ]
  },
  {
   "cell_type": "code",
   "execution_count": 58,
   "metadata": {},
   "outputs": [
    {
     "data": {
      "text/plain": [
       "2"
      ]
     },
     "execution_count": 58,
     "metadata": {},
     "output_type": "execute_result"
    }
   ],
   "source": [
    "# 1 or other than 0 (false)\n",
    "0 or 2"
   ]
  },
  {
   "cell_type": "code",
   "execution_count": 59,
   "metadata": {},
   "outputs": [
    {
     "data": {
      "text/plain": [
       "0"
      ]
     },
     "execution_count": 59,
     "metadata": {},
     "output_type": "execute_result"
    }
   ],
   "source": [
    "0 and 1"
   ]
  },
  {
   "cell_type": "code",
   "execution_count": 60,
   "metadata": {},
   "outputs": [
    {
     "data": {
      "text/plain": [
       "''"
      ]
     },
     "execution_count": 60,
     "metadata": {},
     "output_type": "execute_result"
    }
   ],
   "source": [
    "0 or ''"
   ]
  },
  {
   "cell_type": "code",
   "execution_count": null,
   "metadata": {},
   "outputs": [],
   "source": []
  }
 ],
 "metadata": {
  "kernelspec": {
   "display_name": "Python 3",
   "language": "python",
   "name": "python3"
  },
  "language_info": {
   "codemirror_mode": {
    "name": "ipython",
    "version": 3
   },
   "file_extension": ".py",
   "mimetype": "text/x-python",
   "name": "python",
   "nbconvert_exporter": "python",
   "pygments_lexer": "ipython3",
   "version": "3.7.6"
  }
 },
 "nbformat": 4,
 "nbformat_minor": 4
}
