{
 "cells": [
  {
   "cell_type": "markdown",
   "metadata": {},
   "source": [
    "# Functions / Methods / Routines"
   ]
  },
  {
   "cell_type": "code",
   "execution_count": 4,
   "metadata": {},
   "outputs": [
    {
     "name": "stdout",
     "output_type": "stream",
     "text": [
      "Welcome to my function\n"
     ]
    }
   ],
   "source": [
    "def func_name():\n",
    "    print(\"Welcome to my function\")\n",
    "func_name()"
   ]
  },
  {
   "cell_type": "code",
   "execution_count": 14,
   "metadata": {},
   "outputs": [],
   "source": [
    "def add():\n",
    "    num1 = int(input(\"Enter 1st number : \"))\n",
    "    num2 = int(input(\"Enter 2nd number : \"))\n",
    "    print(\"Result : \" + str(num1+num2))\n",
    "    "
   ]
  },
  {
   "cell_type": "code",
   "execution_count": 15,
   "metadata": {},
   "outputs": [
    {
     "name": "stdout",
     "output_type": "stream",
     "text": [
      "Enter 1st number : 5\n",
      "Enter 2nd number : 5\n",
      "Result : 10\n"
     ]
    }
   ],
   "source": [
    "add()"
   ]
  },
  {
   "cell_type": "code",
   "execution_count": 3,
   "metadata": {},
   "outputs": [],
   "source": [
    "def largest_num():\n",
    "    numbers = []\n",
    "    \n",
    "    for i in range(5):\n",
    "        num = int(input(\"Enter number \" + str(i+1) + \" : \" ))\n",
    "        numbers.append(num)\n",
    "    \n",
    "    for i in range(4):\n",
    "        if numbers[i] > numbers[i+1]:\n",
    "            large_num = numbers[i]\n",
    "        else:\n",
    "            large_num = numbers[i+1]\n",
    "    \n",
    "    print(\"largest number : \" + str(large_num))"
   ]
  },
  {
   "cell_type": "code",
   "execution_count": 4,
   "metadata": {},
   "outputs": [
    {
     "name": "stdout",
     "output_type": "stream",
     "text": [
      "Enter number 1 : 1\n",
      "Enter number 2 : 4\n",
      "Enter number 3 : 7\n",
      "Enter number 4 : 3\n",
      "Enter number 5 : 9\n",
      "largest number : 9\n"
     ]
    }
   ],
   "source": [
    "largest_num()"
   ]
  },
  {
   "cell_type": "code",
   "execution_count": 6,
   "metadata": {},
   "outputs": [
    {
     "name": "stdout",
     "output_type": "stream",
     "text": [
      "Enter 5 nos. (comma sep)1,4,2,5,7\n"
     ]
    },
    {
     "data": {
      "text/plain": [
       "7"
      ]
     },
     "execution_count": 6,
     "metadata": {},
     "output_type": "execute_result"
    }
   ],
   "source": [
    "def findmaxno():\n",
    "    ans = input('Enter 5 nos. (comma sep)').split(',')\n",
    "    return max(int(x) for x in ans)\n",
    "findmaxno()"
   ]
  },
  {
   "cell_type": "code",
   "execution_count": 9,
   "metadata": {},
   "outputs": [
    {
     "name": "stdout",
     "output_type": "stream",
     "text": [
      "Enter 5 nos. (comma sep)3,4,6,7,5\n"
     ]
    },
    {
     "data": {
      "text/plain": [
       "'7'"
      ]
     },
     "execution_count": 9,
     "metadata": {},
     "output_type": "execute_result"
    }
   ],
   "source": [
    "def findmaxno():\n",
    "    ans = input('Enter 5 nos. (comma sep)').split(',')\n",
    "    return max(ans)\n",
    "findmaxno()"
   ]
  },
  {
   "cell_type": "code",
   "execution_count": 11,
   "metadata": {},
   "outputs": [
    {
     "name": "stdout",
     "output_type": "stream",
     "text": [
      "Enter 5 nos. (comma sep)100,5,3,2,4\n"
     ]
    },
    {
     "data": {
      "text/plain": [
       "'5'"
      ]
     },
     "execution_count": 11,
     "metadata": {},
     "output_type": "execute_result"
    }
   ],
   "source": [
    "def findmaxno():\n",
    "    return max(input('Enter 5 nos. (comma sep)').split(','))\n",
    "findmaxno()"
   ]
  },
  {
   "cell_type": "code",
   "execution_count": 12,
   "metadata": {},
   "outputs": [
    {
     "name": "stdout",
     "output_type": "stream",
     "text": [
      "Enter 5 nos. (comma sep)4,6,7,5,100\n"
     ]
    },
    {
     "data": {
      "text/plain": [
       "7"
      ]
     },
     "execution_count": 12,
     "metadata": {},
     "output_type": "execute_result"
    }
   ],
   "source": [
    "#above code compare ASCII values so that it returns 5 instead of 100\n",
    "def findmaxno():\n",
    "    return int(max(input('Enter 5 nos. (comma sep)').split(',')))\n",
    "findmaxno()"
   ]
  },
  {
   "cell_type": "code",
   "execution_count": 13,
   "metadata": {},
   "outputs": [
    {
     "name": "stdout",
     "output_type": "stream",
     "text": [
      "Enter 5 nos. (comma sep)4,6,5,7,100\n"
     ]
    },
    {
     "ename": "TypeError",
     "evalue": "int() argument must be a string, a bytes-like object or a number, not 'list'",
     "output_type": "error",
     "traceback": [
      "\u001b[1;31m---------------------------------------------------------------------------\u001b[0m",
      "\u001b[1;31mTypeError\u001b[0m                                 Traceback (most recent call last)",
      "\u001b[1;32m<ipython-input-13-285fb22877d2>\u001b[0m in \u001b[0;36m<module>\u001b[1;34m\u001b[0m\n\u001b[0;32m      2\u001b[0m \u001b[1;32mdef\u001b[0m \u001b[0mfindmaxno\u001b[0m\u001b[1;33m(\u001b[0m\u001b[1;33m)\u001b[0m\u001b[1;33m:\u001b[0m\u001b[1;33m\u001b[0m\u001b[1;33m\u001b[0m\u001b[0m\n\u001b[0;32m      3\u001b[0m     \u001b[1;32mreturn\u001b[0m \u001b[0mmax\u001b[0m\u001b[1;33m(\u001b[0m\u001b[0mint\u001b[0m\u001b[1;33m(\u001b[0m\u001b[0minput\u001b[0m\u001b[1;33m(\u001b[0m\u001b[1;34m'Enter 5 nos. (comma sep)'\u001b[0m\u001b[1;33m)\u001b[0m\u001b[1;33m.\u001b[0m\u001b[0msplit\u001b[0m\u001b[1;33m(\u001b[0m\u001b[1;34m','\u001b[0m\u001b[1;33m)\u001b[0m\u001b[1;33m)\u001b[0m\u001b[1;33m)\u001b[0m\u001b[1;33m\u001b[0m\u001b[1;33m\u001b[0m\u001b[0m\n\u001b[1;32m----> 4\u001b[1;33m \u001b[0mfindmaxno\u001b[0m\u001b[1;33m(\u001b[0m\u001b[1;33m)\u001b[0m\u001b[1;33m\u001b[0m\u001b[1;33m\u001b[0m\u001b[0m\n\u001b[0m",
      "\u001b[1;32m<ipython-input-13-285fb22877d2>\u001b[0m in \u001b[0;36mfindmaxno\u001b[1;34m()\u001b[0m\n\u001b[0;32m      1\u001b[0m \u001b[1;31m#still above code compare ASCII values\u001b[0m\u001b[1;33m\u001b[0m\u001b[1;33m\u001b[0m\u001b[1;33m\u001b[0m\u001b[0m\n\u001b[0;32m      2\u001b[0m \u001b[1;32mdef\u001b[0m \u001b[0mfindmaxno\u001b[0m\u001b[1;33m(\u001b[0m\u001b[1;33m)\u001b[0m\u001b[1;33m:\u001b[0m\u001b[1;33m\u001b[0m\u001b[1;33m\u001b[0m\u001b[0m\n\u001b[1;32m----> 3\u001b[1;33m     \u001b[1;32mreturn\u001b[0m \u001b[0mmax\u001b[0m\u001b[1;33m(\u001b[0m\u001b[0mint\u001b[0m\u001b[1;33m(\u001b[0m\u001b[0minput\u001b[0m\u001b[1;33m(\u001b[0m\u001b[1;34m'Enter 5 nos. (comma sep)'\u001b[0m\u001b[1;33m)\u001b[0m\u001b[1;33m.\u001b[0m\u001b[0msplit\u001b[0m\u001b[1;33m(\u001b[0m\u001b[1;34m','\u001b[0m\u001b[1;33m)\u001b[0m\u001b[1;33m)\u001b[0m\u001b[1;33m)\u001b[0m\u001b[1;33m\u001b[0m\u001b[1;33m\u001b[0m\u001b[0m\n\u001b[0m\u001b[0;32m      4\u001b[0m \u001b[0mfindmaxno\u001b[0m\u001b[1;33m(\u001b[0m\u001b[1;33m)\u001b[0m\u001b[1;33m\u001b[0m\u001b[1;33m\u001b[0m\u001b[0m\n",
      "\u001b[1;31mTypeError\u001b[0m: int() argument must be a string, a bytes-like object or a number, not 'list'"
     ]
    }
   ],
   "source": [
    "#still above code compare ASCII values\n",
    "def findmaxno():\n",
    "    return max(int(input('Enter 5 nos. (comma sep)').split(',')))\n",
    "findmaxno()"
   ]
  },
  {
   "cell_type": "code",
   "execution_count": 17,
   "metadata": {},
   "outputs": [
    {
     "name": "stdout",
     "output_type": "stream",
     "text": [
      "Enter 5 nos. (comma sep)1,2,3,6,100\n"
     ]
    },
    {
     "data": {
      "text/plain": [
       "100"
      ]
     },
     "execution_count": 17,
     "metadata": {},
     "output_type": "execute_result"
    }
   ],
   "source": [
    "#it is the first code \n",
    "def findmaxno():\n",
    "    ans = input('Enter 5 nos. (comma sep)').split(',')\n",
    "    return max(int(x) for x in ans)\n",
    "findmaxno()"
   ]
  },
  {
   "cell_type": "code",
   "execution_count": 21,
   "metadata": {},
   "outputs": [
    {
     "name": "stdout",
     "output_type": "stream",
     "text": [
      "Enter number to check it's Even or Odd : 5\n",
      "5 is Odd\n"
     ]
    }
   ],
   "source": [
    "def even_odd():\n",
    "    num = int(input(\"Enter number to check it's Even or Odd : \"))\n",
    "    if num%2==0:\n",
    "        print(str(num )+ \" is Even\")\n",
    "    else:\n",
    "        print(str(num) + \" is Odd\")\n",
    "\n",
    "even_odd()"
   ]
  },
  {
   "cell_type": "code",
   "execution_count": 26,
   "metadata": {},
   "outputs": [
    {
     "name": "stdout",
     "output_type": "stream",
     "text": [
      "enter number : 99\n",
      "User value is same\n"
     ]
    }
   ],
   "source": [
    "myValue = 99\n",
    "def my_Value():\n",
    "    num = int(input(\"enter number : \"))\n",
    "    if myValue == num:\n",
    "        print(\"User value is same\")\n",
    "    elif myValue < num:\n",
    "        print(\"User value is Larger\")\n",
    "    else:\n",
    "        print(\"User value is Smaller\")\n",
    "        \n",
    "my_Value()"
   ]
  },
  {
   "cell_type": "code",
   "execution_count": 39,
   "metadata": {},
   "outputs": [
    {
     "name": "stdout",
     "output_type": "stream",
     "text": [
      "Press Y if your fees is paid , if not then press N : Y\n",
      "Press Y if you have admit card , if not then press N : n\n",
      "You are Eligible for Exam \n"
     ]
    }
   ],
   "source": [
    "def exam_eligible():\n",
    "    fees = input(\"Press Y if your fees is paid , if not then press N : \")\n",
    "    admitCard = input(\"Press Y if you have admit card , if not then press N : \")\n",
    "    \n",
    "    if (fees == 'y' or 'Y') and (admitCard == 'y' or 'Y'):\n",
    "        print(\"You are Eligible for Exam \")\n",
    "    else:\n",
    "        print(\"You are Not Eligible for Exam \")\n",
    "        \n",
    "exam_eligible()       "
   ]
  },
  {
   "cell_type": "code",
   "execution_count": 41,
   "metadata": {},
   "outputs": [
    {
     "name": "stdout",
     "output_type": "stream",
     "text": [
      "enter fee status (paid/unpaid)paid\n",
      "Do you have admit card yes/noyes\n",
      "you are allowed to sit in exam\n"
     ]
    }
   ],
   "source": [
    "#sir\n",
    "#fees = 'paid'\n",
    "#admitCard = 'yes'\n",
    "\n",
    "def examCheck():\n",
    "    feeStatus = input(\"enter fee status (paid/unpaid)\")\n",
    "    admitCard = input(\"Do you have admit card yes/no\")\n",
    "    \n",
    "    if feeStatus=='paid' and admitCard=='yes':\n",
    "        print(\"you are allowed to sit in exam\")\n",
    "examCheck()    "
   ]
  },
  {
   "cell_type": "code",
   "execution_count": 40,
   "metadata": {},
   "outputs": [],
   "source": [
    "#above code without and/or operators\n",
    "\n",
    "\n"
   ]
  },
  {
   "cell_type": "markdown",
   "metadata": {},
   "source": [
    "# Nested if VS multiple if"
   ]
  },
  {
   "cell_type": "code",
   "execution_count": 46,
   "metadata": {},
   "outputs": [
    {
     "name": "stdout",
     "output_type": "stream",
     "text": [
      "enter fee status (paid/unpaid)unpaid\n",
      "Not Allowed\n"
     ]
    }
   ],
   "source": [
    "def examCheck():\n",
    "    feeStatus = input(\"enter fee status (paid/unpaid)\")\n",
    "    if feeStatus=='paid':\n",
    "        admitCard = input(\"Do you have admit card yes/no\")\n",
    "        if admitCard=='yes':\n",
    "            print(\"you are allowed to sit in exam\")\n",
    "        else:\n",
    "            print(\"Not Allowed\")\n",
    "    else:\n",
    "        print(\"Not Allowed\")\n",
    "examCheck()"
   ]
  },
  {
   "cell_type": "code",
   "execution_count": null,
   "metadata": {},
   "outputs": [],
   "source": [
    "#CTRL+Shift+F \n",
    "def examCheck():\n",
    "    feeStatus = input(\"enter fee status (paid/unpaid)\")\n",
    "    if feeStatus=='paid':\n",
    "        admitCard = input(\"Do you have admit card yes/no\")\n",
    "        if admitCard=='yes':\n",
    "            print(\"you are allowed to sit in exam\")\n",
    "            else:\n",
    "                print(\"Not Allowed\")\n",
    "                else:\n",
    "                    print(\"Not Allowed\")"
   ]
  },
  {
   "cell_type": "code",
   "execution_count": 43,
   "metadata": {},
   "outputs": [
    {
     "name": "stdout",
     "output_type": "stream",
     "text": [
      "Enter number or 'quit' to exit : 4\n",
      "4 is Even\n",
      "Enter number or 'quit' to exit : 5\n",
      "5 is Odd\n",
      "Enter number or 'quit' to exit : 6\n",
      "6 is Even\n",
      "Enter number or 'quit' to exit : 7\n",
      "7 is Odd\n",
      "Enter number or 'quit' to exit : 5\n",
      "5 is Odd\n",
      "Enter number or 'quit' to exit : 4\n",
      "4 is Even\n",
      "Enter number or 'quit' to exit : 3\n",
      "3 is Odd\n",
      "Enter number or 'quit' to exit : 2\n",
      "2 is Even\n",
      "Enter number or 'quit' to exit : 4\n",
      "4 is Even\n",
      "Enter number or 'quit' to exit : 5\n",
      "5 is Odd\n",
      "Enter number or 'quit' to exit : 6\n",
      "6 is Even\n",
      "Enter number or 'quit' to exit : 6\n",
      "6 is Even\n",
      "Enter number or 'quit' to exit : 7\n",
      "7 is Odd\n",
      "Enter number or 'quit' to exit : 8\n",
      "8 is Even\n",
      "Enter number or 'quit' to exit : 9\n",
      "9 is Odd\n",
      "Enter number or 'quit' to exit : 0\n",
      "0 is Even\n",
      "Enter number or 'quit' to exit : quit\n"
     ]
    }
   ],
   "source": [
    "def even_odd_check():\n",
    "    flag = True\n",
    "    while(flag):\n",
    "        num = input(\"Enter number or 'quit' to exit : \")\n",
    "        if num == 'quit':\n",
    "            flag = False\n",
    "        else:\n",
    "            num = int(num)\n",
    "            if num%2==0:\n",
    "                print(str(num )+ \" is Even\")\n",
    "            else:\n",
    "                print(str(num) + \" is Odd\")\n",
    "                \n",
    "even_odd_check()"
   ]
  },
  {
   "cell_type": "markdown",
   "metadata": {},
   "source": [
    "''' while(True) '''\n",
    "    if user_input =='q':\n",
    "    print(\"exiting\")\n",
    "    break"
   ]
  }
 ],
 "metadata": {
  "kernelspec": {
   "display_name": "Python 3",
   "language": "python",
   "name": "python3"
  },
  "language_info": {
   "codemirror_mode": {
    "name": "ipython",
    "version": 3
   },
   "file_extension": ".py",
   "mimetype": "text/x-python",
   "name": "python",
   "nbconvert_exporter": "python",
   "pygments_lexer": "ipython3",
   "version": "3.7.6"
  }
 },
 "nbformat": 4,
 "nbformat_minor": 4
}
