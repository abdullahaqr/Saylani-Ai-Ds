{
 "cells": [
  {
   "cell_type": "code",
   "execution_count": 8,
   "metadata": {},
   "outputs": [
    {
     "data": {
      "text/plain": [
       "{1, 2, 3, 4, 5, 6, 7, 8, 9}"
      ]
     },
     "execution_count": 8,
     "metadata": {},
     "output_type": "execute_result"
    }
   ],
   "source": [
    "aSet = {1,2,3,4,5,6,7,8,9}\n",
    "aSet"
   ]
  },
  {
   "cell_type": "code",
   "execution_count": 10,
   "metadata": {},
   "outputs": [
    {
     "data": {
      "text/plain": [
       "{1, 2, 3, 4, 5, 6, 7, 8, 9, 'Abdullah', 'Furqan'}"
      ]
     },
     "execution_count": 10,
     "metadata": {},
     "output_type": "execute_result"
    }
   ],
   "source": [
    "aSet.update({'Abdullah', 'Furqan'})\n",
    "aSet"
   ]
  },
  {
   "cell_type": "code",
   "execution_count": 11,
   "metadata": {},
   "outputs": [],
   "source": [
    "bSet = {21, 'Ali', 'Zee'}"
   ]
  },
  {
   "cell_type": "code",
   "execution_count": 12,
   "metadata": {},
   "outputs": [
    {
     "data": {
      "text/plain": [
       "{21, '3', '4', 'Ali', 'Zee'}"
      ]
     },
     "execution_count": 12,
     "metadata": {},
     "output_type": "execute_result"
    }
   ],
   "source": [
    "bSet.update('34')\n",
    "bSet"
   ]
  },
  {
   "cell_type": "code",
   "execution_count": 14,
   "metadata": {},
   "outputs": [
    {
     "data": {
      "text/plain": [
       "{21, 22, '3', '4', 'Ali', 'Zee'}"
      ]
     },
     "execution_count": 14,
     "metadata": {},
     "output_type": "execute_result"
    }
   ],
   "source": [
    "bSet.add(22)\n",
    "bSet"
   ]
  },
  {
   "cell_type": "markdown",
   "metadata": {},
   "source": [
    "# Dictionary"
   ]
  },
  {
   "cell_type": "code",
   "execution_count": 15,
   "metadata": {},
   "outputs": [],
   "source": [
    "A_dic = {} #it might be set or dictionary but it must take it as a dictionary\n"
   ]
  },
  {
   "cell_type": "code",
   "execution_count": 19,
   "metadata": {},
   "outputs": [
    {
     "data": {
      "text/plain": [
       "{'name': 'Abdullah', 'age': 23, 'Qual': 'BCS', 'Exp': 2}"
      ]
     },
     "execution_count": 19,
     "metadata": {},
     "output_type": "execute_result"
    }
   ],
   "source": [
    "dictionary = {\"name\": \"Abdullah\", \"age\": 23, \"Qual\": \"BCS\", \"Exp\":2}\n",
    "dictionary"
   ]
  },
  {
   "cell_type": "code",
   "execution_count": 23,
   "metadata": {},
   "outputs": [
    {
     "data": {
      "text/plain": [
       "{'name': 'Furqan', 'age': 23, 'Qual': 'BCS', 'Exp': 2}"
      ]
     },
     "execution_count": 23,
     "metadata": {},
     "output_type": "execute_result"
    }
   ],
   "source": [
    "dictionary[\"name\"] = \"Furqan\"\n",
    "dictionary"
   ]
  },
  {
   "cell_type": "code",
   "execution_count": 24,
   "metadata": {},
   "outputs": [
    {
     "name": "stdout",
     "output_type": "stream",
     "text": [
      "name\n",
      "age\n",
      "Qual\n",
      "Exp\n"
     ]
    }
   ],
   "source": [
    "for a in dictionary:\n",
    "    print(a)"
   ]
  },
  {
   "cell_type": "code",
   "execution_count": 28,
   "metadata": {},
   "outputs": [
    {
     "name": "stdout",
     "output_type": "stream",
     "text": [
      "Furqan\n",
      "23\n",
      "BCS\n",
      "2\n"
     ]
    }
   ],
   "source": [
    "for key in dictionary.keys():\n",
    "    print(dictionary[key])"
   ]
  },
  {
   "cell_type": "code",
   "execution_count": 29,
   "metadata": {},
   "outputs": [
    {
     "name": "stdout",
     "output_type": "stream",
     "text": [
      "('name', 'Furqan')\n",
      "('age', 23)\n",
      "('Qual', 'BCS')\n",
      "('Exp', 2)\n"
     ]
    }
   ],
   "source": [
    "for item in dictionary.items():\n",
    "    print(item)"
   ]
  },
  {
   "cell_type": "code",
   "execution_count": 32,
   "metadata": {},
   "outputs": [
    {
     "name": "stdout",
     "output_type": "stream",
     "text": [
      "name Furqan\n",
      "age 23\n",
      "Qual BCS\n",
      "Exp 2\n"
     ]
    }
   ],
   "source": [
    "for key, item in dictionary.items():\n",
    "    print(key, item)"
   ]
  },
  {
   "cell_type": "code",
   "execution_count": 41,
   "metadata": {},
   "outputs": [
    {
     "name": "stdout",
     "output_type": "stream",
     "text": [
      "name Furqan\n",
      "age 23\n",
      "Qual BCS\n",
      "Exp 2\n"
     ]
    }
   ],
   "source": [
    "for key, item in dictionary.items():\n",
    "    print(key, item)"
   ]
  },
  {
   "cell_type": "code",
   "execution_count": 34,
   "metadata": {},
   "outputs": [
    {
     "name": "stdout",
     "output_type": "stream",
     "text": [
      "(0, 'P')\n",
      "(1, 'a')\n",
      "(2, 'k')\n",
      "(3, 'i')\n",
      "(4, 's')\n",
      "(5, 't')\n",
      "(6, 'a')\n",
      "(7, 'n')\n"
     ]
    }
   ],
   "source": [
    "for char in enumerate(\"Pakistan\"):\n",
    "    print(char)"
   ]
  },
  {
   "cell_type": "code",
   "execution_count": 40,
   "metadata": {},
   "outputs": [
    {
     "name": "stdout",
     "output_type": "stream",
     "text": [
      "0 ('name', 'Furqan')\n",
      "1 ('age', 23)\n",
      "2 ('Qual', 'BCS')\n",
      "3 ('Exp', 2)\n"
     ]
    }
   ],
   "source": [
    "for key, item in enumerate(dictionary.items()):\n",
    "    print(key, item)"
   ]
  },
  {
   "cell_type": "code",
   "execution_count": 49,
   "metadata": {},
   "outputs": [
    {
     "name": "stdout",
     "output_type": "stream",
     "text": [
      "0 name Furqan\n",
      "1 age 23\n",
      "2 Qual BCS\n",
      "3 Exp 2\n"
     ]
    }
   ],
   "source": [
    "for a, (b, c) in enumerate(dictionary.items()):\n",
    "    print(a, b, c)"
   ]
  },
  {
   "cell_type": "code",
   "execution_count": 52,
   "metadata": {},
   "outputs": [
    {
     "data": {
      "text/plain": [
       "{'milk': 120, 'coffee': 150, 'bread': 50}"
      ]
     },
     "execution_count": 52,
     "metadata": {},
     "output_type": "execute_result"
    }
   ],
   "source": [
    "price_in_rs = {'milk':120, 'coffee':150, 'bread':50}\n",
    "price_in_rs"
   ]
  },
  {
   "cell_type": "code",
   "execution_count": 57,
   "metadata": {},
   "outputs": [
    {
     "data": {
      "text/plain": [
       "{'milk': 0.75, 'coffee': 0.9375, 'bread': 0.3125}"
      ]
     },
     "execution_count": 57,
     "metadata": {},
     "output_type": "execute_result"
    }
   ],
   "source": [
    "dollars_rate = 160\n",
    "price_in_dollars = {key:(value/dollars_rate) for key, value in price_in_rs.items()}\n",
    "price_in_dollars"
   ]
  },
  {
   "cell_type": "code",
   "execution_count": 67,
   "metadata": {},
   "outputs": [
    {
     "name": "stdout",
     "output_type": "stream",
     "text": [
      "{'milk': 0.75, 'coffee': 0.9375, 'bread': 0.3125} {'bread': 0.3125}\n"
     ]
    }
   ],
   "source": [
    "new_price_in_dollars = {}\n",
    "for key, item in price_in_dollars.items():\n",
    "    if price_in_dollars[key] < 0.5:\n",
    "        new_price_in_dollars[key] = item\n",
    "        \n",
    "print(price_in_dollars, new_price_in_dollars)"
   ]
  },
  {
   "cell_type": "code",
   "execution_count": null,
   "metadata": {},
   "outputs": [],
   "source": []
  }
 ],
 "metadata": {
  "kernelspec": {
   "display_name": "Python 3",
   "language": "python",
   "name": "python3"
  },
  "language_info": {
   "codemirror_mode": {
    "name": "ipython",
    "version": 3
   },
   "file_extension": ".py",
   "mimetype": "text/x-python",
   "name": "python",
   "nbconvert_exporter": "python",
   "pygments_lexer": "ipython3",
   "version": "3.7.6"
  }
 },
 "nbformat": 4,
 "nbformat_minor": 4
}
