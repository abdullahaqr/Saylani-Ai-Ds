{
 "cells": [
  {
   "cell_type": "code",
   "execution_count": 7,
   "metadata": {},
   "outputs": [],
   "source": [
    "def space_count(text):\n",
    "    '''This function accepts text/paragraph/string \n",
    "    and returns number of spaces'''\n",
    "    count = 0\n",
    "    for letter in text:\n",
    "        if letter == \" \":\n",
    "            count += 1\n",
    "    return 'Number of Spaces : ' + str(count)"
   ]
  },
  {
   "cell_type": "code",
   "execution_count": 8,
   "metadata": {},
   "outputs": [
    {
     "data": {
      "text/plain": [
       "'Number of Spaces : 3'"
      ]
     },
     "execution_count": 8,
     "metadata": {},
     "output_type": "execute_result"
    }
   ],
   "source": [
    "space_count(\"my name is Abdullah\")"
   ]
  },
  {
   "cell_type": "code",
   "execution_count": 17,
   "metadata": {},
   "outputs": [],
   "source": [
    "def remove_double_space(text):\n",
    "    '''This function accepts text/paragraph/string \n",
    "    and returns string with all double or multiple spaces removed '''\n",
    "\n",
    "    return ( ' '.join(text.split()) )"
   ]
  },
  {
   "cell_type": "code",
   "execution_count": 19,
   "metadata": {},
   "outputs": [
    {
     "data": {
      "text/plain": [
       "'my name is Abdullah Bin Abdul Qadeer'"
      ]
     },
     "execution_count": 19,
     "metadata": {},
     "output_type": "execute_result"
    }
   ],
   "source": [
    "remove_double_space('my name  is   Abdullah                      Bin    Abdul   Qadeer')"
   ]
  },
  {
   "cell_type": "code",
   "execution_count": 7,
   "metadata": {},
   "outputs": [],
   "source": [
    "def punctuation_count(text):\n",
    "    '''This function accepts text/paragraph/string \n",
    "    and returns number of punctuations '''\n",
    "    punctuations = '''!()-[]{};:'\"\\,<>./?@#$%^&*_~'''\n",
    "    count = 0\n",
    "    for i in range (len(text)): \n",
    "        if text[i] in punctuations:\n",
    "            count += 1\n",
    "    return \"Number of punctuations : \" + str(count)\n",
    "\n",
    "#another method\n",
    "\n",
    "#def punctuation_count(text):\n",
    "    #'''This function accepts text/paragraph/string \n",
    "    #and returns number of punctuations '''\n",
    "    #count = 0\n",
    "    #for i in range (len(text)): \n",
    "        #if text[i] in ('!', \",\", \"\\'\", \";\", \"/\", \".\", \"-\", \"?\", \":\"):\n",
    "            #count += 1\n",
    "    #return \"Number of punctuations : \" + str(count)"
   ]
  },
  {
   "cell_type": "code",
   "execution_count": 8,
   "metadata": {},
   "outputs": [
    {
     "data": {
      "text/plain": [
       "'Number of punctuations : 2'"
      ]
     },
     "execution_count": 8,
     "metadata": {},
     "output_type": "execute_result"
    }
   ],
   "source": [
    "punctuation_count(\"my ? name is Abdullah!\")"
   ]
  },
  {
   "cell_type": "code",
   "execution_count": 9,
   "metadata": {},
   "outputs": [],
   "source": [
    "def remove_punctuation(text):\n",
    "    '''This function accepts text/paragraph/string \n",
    "    and returns string with all punctuations removed '''\n",
    "    \n",
    "    punctuations = '''!()-[]{};:'\"\\,<>./?@#$%^&*_~'''\n",
    "\n",
    "    no_punctuation = \"\"\n",
    "    \n",
    "    for char in text:\n",
    "        if char not in punctuations:\n",
    "            no_punctuation = no_punctuation + char\n",
    "\n",
    "    return no_punctuation"
   ]
  },
  {
   "cell_type": "code",
   "execution_count": 10,
   "metadata": {},
   "outputs": [
    {
     "data": {
      "text/plain": [
       "'my  name is Abdullah'"
      ]
     },
     "execution_count": 10,
     "metadata": {},
     "output_type": "execute_result"
    }
   ],
   "source": [
    "remove_punctuation(\"my ? name is Abdullah!\")"
   ]
  },
  {
   "cell_type": "code",
   "execution_count": null,
   "metadata": {},
   "outputs": [],
   "source": []
  }
 ],
 "metadata": {
  "kernelspec": {
   "display_name": "Python 3",
   "language": "python",
   "name": "python3"
  },
  "language_info": {
   "codemirror_mode": {
    "name": "ipython",
    "version": 3
   },
   "file_extension": ".py",
   "mimetype": "text/x-python",
   "name": "python",
   "nbconvert_exporter": "python",
   "pygments_lexer": "ipython3",
   "version": "3.7.4"
  }
 },
 "nbformat": 4,
 "nbformat_minor": 2
}
